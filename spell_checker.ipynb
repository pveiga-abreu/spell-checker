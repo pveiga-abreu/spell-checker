{
 "cells": [
  {
   "cell_type": "markdown",
   "id": "difficult-affiliate",
   "metadata": {},
   "source": [
    "### Tokenize articles"
   ]
  },
  {
   "cell_type": "code",
   "execution_count": 1,
   "id": "disturbed-colorado",
   "metadata": {},
   "outputs": [],
   "source": [
    "import nltk"
   ]
  },
  {
   "cell_type": "code",
   "execution_count": 2,
   "id": "royal-attraction",
   "metadata": {},
   "outputs": [],
   "source": [
    "with open('artigos.txt', 'r', encoding='utf8') as fil:\n",
    "    articles = fil.read()"
   ]
  },
  {
   "cell_type": "code",
   "execution_count": 3,
   "id": "sensitive-stream",
   "metadata": {},
   "outputs": [],
   "source": [
    "tokens = nltk.tokenize.word_tokenize(articles)"
   ]
  },
  {
   "cell_type": "code",
   "execution_count": 4,
   "id": "careful-conditions",
   "metadata": {},
   "outputs": [
    {
     "name": "stdout",
     "output_type": "stream",
     "text": [
      "515907\n",
      "['imagem', 'Temos', 'a', 'seguinte', 'classe', 'que', 'representa', 'um', 'usuário', 'no', 'nosso', 'sistema', ':', 'java', 'Para', 'salvar', 'um', 'novo', 'usuário', ',', 'várias', 'validações', 'são', 'feitas', ',', 'como', 'por', 'exemplo', ':', 'Ver', 'se', 'o', 'nome', 'só', 'contém', 'letras', ',', '[', '*', '*']\n"
     ]
    }
   ],
   "source": [
    "print(len(tokens))\n",
    "print(tokens[:40])"
   ]
  },
  {
   "cell_type": "markdown",
   "id": "electronic-musician",
   "metadata": {},
   "source": [
    "### Separating words from tokens"
   ]
  },
  {
   "cell_type": "code",
   "execution_count": 5,
   "id": "complimentary-probe",
   "metadata": {},
   "outputs": [],
   "source": [
    "def separate_words(tokens: list) -> list:\n",
    "    return [ token for token in tokens if token.isalpha() ]"
   ]
  },
  {
   "cell_type": "code",
   "execution_count": 6,
   "id": "liked-sword",
   "metadata": {},
   "outputs": [],
   "source": [
    "words = separate_words(tokens)"
   ]
  },
  {
   "cell_type": "code",
   "execution_count": 7,
   "id": "veterinary-valentine",
   "metadata": {},
   "outputs": [
    {
     "name": "stdout",
     "output_type": "stream",
     "text": [
      "403106\n",
      "['imagem', 'Temos', 'a', 'seguinte', 'classe', 'que', 'representa', 'um', 'usuário', 'no', 'nosso', 'sistema', 'java', 'Para', 'salvar', 'um', 'novo', 'usuário', 'várias', 'validações', 'são', 'feitas', 'como', 'por', 'exemplo', 'Ver', 'se', 'o', 'nome', 'só', 'contém', 'letras', 'o', 'CPF', 'só', 'números', 'e', 'ver', 'se', 'o']\n"
     ]
    }
   ],
   "source": [
    "print(len(words))\n",
    "print(words[:40])"
   ]
  },
  {
   "cell_type": "markdown",
   "id": "apparent-fleece",
   "metadata": {},
   "source": [
    "### putting all on lower case"
   ]
  },
  {
   "cell_type": "code",
   "execution_count": 8,
   "id": "educated-buffalo",
   "metadata": {},
   "outputs": [],
   "source": [
    "def normalize(words: list) -> list:\n",
    "    return [ word.lower() for word in words ]"
   ]
  },
  {
   "cell_type": "code",
   "execution_count": 9,
   "id": "proud-reset",
   "metadata": {},
   "outputs": [],
   "source": [
    "norm_words = normalize(words)"
   ]
  },
  {
   "cell_type": "code",
   "execution_count": 10,
   "id": "extraordinary-museum",
   "metadata": {},
   "outputs": [
    {
     "name": "stdout",
     "output_type": "stream",
     "text": [
      "403106\n",
      "['imagem', 'temos', 'a', 'seguinte', 'classe', 'que', 'representa', 'um', 'usuário', 'no', 'nosso', 'sistema', 'java', 'para', 'salvar', 'um', 'novo', 'usuário', 'várias', 'validações', 'são', 'feitas', 'como', 'por', 'exemplo', 'ver', 'se', 'o', 'nome', 'só', 'contém', 'letras', 'o', 'cpf', 'só', 'números', 'e', 'ver', 'se', 'o']\n"
     ]
    }
   ],
   "source": [
    "print(len(norm_words))\n",
    "print(norm_words[:40])"
   ]
  },
  {
   "cell_type": "markdown",
   "id": "parallel-edgar",
   "metadata": {},
   "source": [
    "### removing repeated words"
   ]
  },
  {
   "cell_type": "code",
   "execution_count": 11,
   "id": "infinite-clerk",
   "metadata": {},
   "outputs": [],
   "source": [
    "unique_words = set(norm_words)"
   ]
  },
  {
   "cell_type": "code",
   "execution_count": 13,
   "id": "smaller-kuwait",
   "metadata": {},
   "outputs": [
    {
     "name": "stdout",
     "output_type": "stream",
     "text": [
      "18465\n"
     ]
    }
   ],
   "source": [
    "print(len(unique_words))"
   ]
  }
 ],
 "metadata": {
  "kernelspec": {
   "display_name": "Python 3",
   "language": "python",
   "name": "python3"
  },
  "language_info": {
   "codemirror_mode": {
    "name": "ipython",
    "version": 3
   },
   "file_extension": ".py",
   "mimetype": "text/x-python",
   "name": "python",
   "nbconvert_exporter": "python",
   "pygments_lexer": "ipython3",
   "version": "3.9.1"
  }
 },
 "nbformat": 4,
 "nbformat_minor": 5
}
